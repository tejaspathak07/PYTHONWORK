{
 "cells": [
  {
   "cell_type": "code",
   "execution_count": 10,
   "id": "b59f3004",
   "metadata": {},
   "outputs": [],
   "source": [
    "#created real life banking application with 3 functionality\n",
    "class Bank_account:\n",
    "    main_bal=0\n",
    "    \n",
    "    def check_bal(self):\n",
    "        print('current balance: ', self.main_bal)            #view balance \n",
    "        \n",
    "    def deposit(self, x):                                    #deposit - x amt \n",
    "        self.main_bal=self.main_bal+x     #this show that the amt is added to the account \n",
    "        print('Amount credited: ', x )\n",
    "    \n",
    "    def withdraw(self,y):                                    #withdraw - y amt \n",
    "        if self.main_bal>=y:    #check availability of amount \n",
    "            self.main_bal = self.main_bal - y#this show the amt is deducted from the account condition to availability of fund\n",
    "            print ('Amount debited: ', y)\n",
    "        else:\n",
    "            print ('insufficient fund')        #if fund not available we have this message \n",
    "    "
   ]
  },
  {
   "cell_type": "code",
   "execution_count": 11,
   "id": "db44228d",
   "metadata": {},
   "outputs": [],
   "source": [
    "#now bank has this program for it application\n",
    "#1st customer came to the bank \n",
    "P1 = Bank_account()   # 1st customer p1 as an object alligned to the class Bank_account "
   ]
  },
  {
   "cell_type": "code",
   "execution_count": 12,
   "id": "77dd04a8",
   "metadata": {},
   "outputs": [
    {
     "name": "stdout",
     "output_type": "stream",
     "text": [
      "current balance:  0\n"
     ]
    }
   ],
   "source": [
    "P1.check_bal()"
   ]
  },
  {
   "cell_type": "code",
   "execution_count": 13,
   "id": "f74125e0",
   "metadata": {},
   "outputs": [
    {
     "name": "stdout",
     "output_type": "stream",
     "text": [
      "Amount credited:  1000000\n"
     ]
    }
   ],
   "source": [
    "#now p1 wants to deposit 1million in his account'\n",
    "P1.deposit(1000000)"
   ]
  },
  {
   "cell_type": "code",
   "execution_count": 14,
   "id": "fa0bf363",
   "metadata": {},
   "outputs": [
    {
     "name": "stdout",
     "output_type": "stream",
     "text": [
      "Amount debited:  20000\n"
     ]
    }
   ],
   "source": [
    "#now he want to withdraw 20,000 from his account \n",
    "P1.withdraw(20000)"
   ]
  },
  {
   "cell_type": "code",
   "execution_count": 15,
   "id": "bebeca78",
   "metadata": {},
   "outputs": [
    {
     "name": "stdout",
     "output_type": "stream",
     "text": [
      "current balance:  980000\n"
     ]
    }
   ],
   "source": [
    "#P1 Again wants to see his account balance \n",
    "P1.check_bal()"
   ]
  },
  {
   "cell_type": "markdown",
   "id": "98606ba8",
   "metadata": {},
   "source": [
    "# This is how tha banking application works for million of its users."
   ]
  }
 ],
 "metadata": {
  "kernelspec": {
   "display_name": "Python 3 (ipykernel)",
   "language": "python",
   "name": "python3"
  },
  "language_info": {
   "codemirror_mode": {
    "name": "ipython",
    "version": 3
   },
   "file_extension": ".py",
   "mimetype": "text/x-python",
   "name": "python",
   "nbconvert_exporter": "python",
   "pygments_lexer": "ipython3",
   "version": "3.10.9"
  }
 },
 "nbformat": 4,
 "nbformat_minor": 5
}
